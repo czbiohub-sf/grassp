{
 "cells": [
  {
   "cell_type": "markdown",
   "id": "c0e97b43",
   "metadata": {},
   "source": [
    "# Dataset integration"
   ]
  },
  {
   "cell_type": "code",
   "execution_count": null,
   "id": "62e1ca51",
   "metadata": {},
   "outputs": [],
   "source": [
    "import grassp as gr\n",
    "import scanpy as sc\n",
    "import anndata as ad\n",
    "import numpy as np"
   ]
  },
  {
   "cell_type": "markdown",
   "id": "587e0a4f",
   "metadata": {},
   "source": [
    "## Loading Data\n",
    "\n",
    "For this tutorial we are going to integrate a differential ultracentrifugation dataset (DC) with an Organellar IP dataset (OrgIP). These can be conveniently loaded with the `grassp.ds` module:"
   ]
  },
  {
   "cell_type": "code",
   "execution_count": null,
   "id": "5d865593",
   "metadata": {},
   "outputs": [],
   "source": [
    "dc = gr.ds.hek_dc_2025(enrichment=\"enriched\")\n",
    "dc"
   ]
  },
  {
   "cell_type": "code",
   "execution_count": null,
   "id": "2c52f3d4",
   "metadata": {},
   "outputs": [],
   "source": [
    "orgip = gr.ds.hein_2024(enrichment=\"enriched\")\n",
    "orgip"
   ]
  },
  {
   "cell_type": "markdown",
   "id": "5caa9465",
   "metadata": {},
   "source": [
    "## Plotting individual maps\n",
    "\n",
    "We can see how the individual datasets resolve subcellular compartments. DC is a more scalable technique than OrgIP, but provides lower resolution. Here we use UMAPS to get a quick idea of the separation of compartments"
   ]
  },
  {
   "cell_type": "code",
   "execution_count": null,
   "id": "650c30c5",
   "metadata": {},
   "outputs": [],
   "source": [
    "sc.pl.umap(orgip, color=\"hein2024_gt_component\")\n",
    "sc.pl.umap(dc, color=\"hein2024_gt_component\")"
   ]
  },
  {
   "cell_type": "markdown",
   "id": "09b617ef",
   "metadata": {},
   "source": [
    "## Integration\n",
    "\n",
    "To integrate the two datasets we need to find identifiers that we can match the datasets on. Candidates could be Uniprot IDs or Gene names. In this case one dataset was searched against SwissProt and the other against TrEMBL, making it hard to merge on uniprot ID. We thus first collaps all entries with the same Gene name"
   ]
  },
  {
   "cell_type": "code",
   "execution_count": null,
   "id": "6a2886eb",
   "metadata": {},
   "outputs": [],
   "source": [
    "dc = dc[dc.obs[\"Gene names\"].notna()]\n",
    "dc_agg = gr.pp.aggregate_proteins(dc, grouping_columns=\"Gene names\", agg_func=np.mean)\n",
    "dc_agg.obs.set_index(\"Gene names\", inplace=True, drop=True)\n",
    "dc_agg.obs.head()"
   ]
  },
  {
   "cell_type": "code",
   "execution_count": null,
   "id": "4c66935d",
   "metadata": {},
   "outputs": [],
   "source": [
    "orgip_agg = gr.pp.aggregate_proteins(\n",
    "    orgip, grouping_columns=\"Gene_name_canonical\", agg_func=np.mean\n",
    ")\n",
    "orgip_agg.obs.set_index(\"Gene_name_canonical\", inplace=True, drop=True)\n",
    "orgip_agg.obs_names = orgip_agg.obs_names.str.upper()\n",
    "orgip_agg.obs"
   ]
  },
  {
   "cell_type": "code",
   "execution_count": null,
   "id": "c3203837",
   "metadata": {},
   "outputs": [],
   "source": [
    "combined = ad.concat(\n",
    "    [dc_agg, orgip_agg],\n",
    "    axis=1,\n",
    "    join=\"inner\",\n",
    "    merge=\"first\",\n",
    "    keys=[\"dc\", \"orgip\"],\n",
    "    label=\"dataset\",\n",
    ")\n",
    "combined"
   ]
  },
  {
   "cell_type": "code",
   "execution_count": null,
   "id": "7bed0499",
   "metadata": {},
   "outputs": [],
   "source": [
    "sc.pp.neighbors(combined, use_rep=\"X\")\n",
    "sc.tl.umap(combined, min_dist=0.1)\n"
   ]
  },
  {
   "cell_type": "code",
   "execution_count": null,
   "id": "1f7e2614",
   "metadata": {},
   "outputs": [],
   "source": [
    "sc.pl.umap(combined, color=\"hein2024_gt_component\")"
   ]
  }
 ],
 "metadata": {
  "kernelspec": {
   "display_name": "grassp",
   "language": "python",
   "name": "python3"
  },
  "language_info": {
   "codemirror_mode": {
    "name": "ipython",
    "version": 3
   },
   "file_extension": ".py",
   "mimetype": "text/x-python",
   "name": "python",
   "nbconvert_exporter": "python",
   "pygments_lexer": "ipython3",
   "version": "3.12.11"
  }
 },
 "nbformat": 4,
 "nbformat_minor": 5
}
