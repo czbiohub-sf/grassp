{
 "cells": [
  {
   "cell_type": "markdown",
   "id": "0022d8fe",
   "metadata": {},
   "source": [
    "# Grassp Centrifugation Workflow Tutorial"
   ]
  },
  {
   "cell_type": "markdown",
   "id": "867ed1e7",
   "metadata": {},
   "source": [
    "\n",
    "*grassp* is a python package that facilitates the analysis of subcellular proteomics data (with an emphasis on graph-based analyses). In this tutorial we will be analyzing subcellular proteomics data produced by differential ultracentrifugation (DC). \n",
    "\n"
   ]
  },
  {
   "cell_type": "code",
   "execution_count": null,
   "id": "0d1dd931",
   "metadata": {},
   "outputs": [],
   "source": [
    "# Spatial and single cell analysis\n",
    "import grassp as gr\n",
    "import scanpy as sc\n",
    "\n",
    "# Data visualization\n",
    "import seaborn as sns\n",
    "import matplotlib.pyplot as plt\n",
    "\n",
    "# Numerical computing and statistics\n",
    "import numpy as np\n",
    "from scipy import stats\n"
   ]
  },
  {
   "cell_type": "markdown",
   "id": "21b9219b",
   "metadata": {},
   "source": [
    "## Reading files\n",
    "\n",
    "We'll load the count matrix into an AnnData object, a data structure that provides multiple compartments for storing annotations and various data representations. For a comprehensive tutorial, refer to the [Getting Started with AnnData](https://anndata.readthedocs.io/en/stable/tutorials/notebooks/getting-started.html) guide.\n"
   ]
  },
  {
   "cell_type": "code",
   "execution_count": null,
   "id": "2a5db6f1",
   "metadata": {},
   "outputs": [],
   "source": [
    "# Grassp provides methods to read from common proteomics formats in the io module.\n",
    "# Here we read a MaxQuant output file.\n",
    "dc = gr.io.read_maxquant(\n",
    "    \"https://public.czbiohub.org/proteinxlocation/internal/proteinGroups.txt\",\n",
    "    intensity_column_prefixes=[\"LFQ intensity \", \"MS/MS count \"],\n",
    ")\n",
    "\n",
    "dc.var[\"subcellular_enrichment\"] = dc.var_names.str.split(\"_\").str[-1]\n",
    "dc.var[\"subcellular_enrichment\"] = dc.var[\"subcellular_enrichment\"].replace(\n",
    "    \"cyt\", \"Cyt\"\n",
    ")\n",
    "\n",
    "dc.var[\"biological_replicate\"] = dc.var_names.str.split(\"_\").str[0].str[-1]"
   ]
  },
  {
   "cell_type": "markdown",
   "id": "e9da1946",
   "metadata": {},
   "source": [
    "The centrifugation data in this tutorial comes from the Elias lab at Stanford University (unpublished as of July 2025). Centrifugation-based subcellular fractionation experiments separate cellular components by spinning samples at increasing speeds (1K, 3K, 5K, 12K, 24K, 80K × g) to isolate organelles and subcellular structures based on their density and size, with the cytoplasmic fraction (Cyt) representing the final supernatant. \n",
    "\n",
    "This approach differs from immunoprecipitation (IP) pull-downs, which use antibodies to specifically capture target proteins and their interacting partners."
   ]
  },
  {
   "cell_type": "markdown",
   "id": "3e342ad2",
   "metadata": {},
   "source": [
    "Although we are loading in the data from our local environment, grassp comes with several example datasets. The code line below shows how to load in these data, including arguments for raw or enriched data. "
   ]
  },
  {
   "cell_type": "code",
   "execution_count": null,
   "id": "704c4b0d",
   "metadata": {},
   "outputs": [],
   "source": [
    "# example_load_raw = gr.datasets.hek_dc_2025(enrichment=\"raw\")\n",
    "# example_load_enr = gr.datasets.hek_dc_2025(enrichment=\"enriched\")"
   ]
  },
  {
   "cell_type": "code",
   "execution_count": null,
   "id": "bcdb90ff",
   "metadata": {},
   "outputs": [],
   "source": [
    "dc"
   ]
  },
  {
   "cell_type": "markdown",
   "id": "c5dcda7c",
   "metadata": {},
   "source": [
    "Let's go through the information printed above:\n",
    "\n",
    "`n_obs` is the number of \"Observations\" (i.e. proteins), `n_var` is the number of variables (i.e. pulldowns/fractions)\n",
    "> AnnData object with n_obs × n_vars = 10224 × 42\n",
    "\n",
    "Under `obs` we find the metadata for the proteins. Each entry is a column in a pandas DataFrame\n",
    ">    obs: 'Protein IDs', 'Majority protein IDs', 'Peptide counts (all)', 'Peptide counts (razor+unique)', 'Peptide counts (unique)', 'Protein names', 'Gene names', 'Fasta headers', 'Number of proteins', 'Peptides', 'Razor + unique peptides', 'Unique peptides', 'Sequence coverage [%]', 'Unique + razor sequence coverage [%]', 'Unique sequence coverage [%]', 'Mol. weight [kDa]', 'Sequence length', 'Sequence lengths', 'Fraction average', 'Fraction 1', 'Fraction 2', 'Fraction 3', 'Q-value', 'Score', 'Intensity', 'iBAQ', 'MS/MS count', 'Only identified by site', 'Reverse', 'Potential contaminant', 'id', 'Peptide IDs', 'Peptide is razor', 'Mod. peptide IDs', 'Evidence IDs', 'MS/MS IDs', 'Best MS/MS', 'Oxidation (M) site IDs', 'Oxidation (M) site positions'\n",
    "\n",
    "Under `var` we find the metadata for the pulldowns/Fractions.\n",
    ">   var: 'subcellular_enrichment', 'biological_replicate'"
   ]
  },
  {
   "cell_type": "markdown",
   "id": "780cb201",
   "metadata": {},
   "source": [
    "## Preprocessing\n",
    "\n",
    "### Adding Compartment Annotations\n",
    "In addition to the bare bones AnnData object, it can be important to add annotations that specify the ground truth subcellular compartments for each sample. These compartment annotations serve as reference labels that define which organelles and cellular structures are expected to be enriched at each centrifugation speed. "
   ]
  },
  {
   "cell_type": "code",
   "execution_count": null,
   "id": "808f89df",
   "metadata": {},
   "outputs": [],
   "source": [
    "annotations = gr.datasets.subcellular_annotations()\n",
    "annotations.head()"
   ]
  },
  {
   "cell_type": "code",
   "execution_count": null,
   "id": "2ccae9b5",
   "metadata": {},
   "outputs": [],
   "source": [
    "dc.obs = dc.obs.merge(\n",
    "    annotations, left_on=\"Gene names\", right_on=\"gene_symbol\", how=\"left\"\n",
    ")\n",
    "dc.obs_names = dc.obs[\"Protein IDs\"].str.split(\";\").str[0]\n",
    "dc.obs.head()"
   ]
  },
  {
   "cell_type": "markdown",
   "id": "9be7bc76",
   "metadata": {},
   "source": [
    "### Adding QC metrics to the metadata\n",
    "Before performing filtering and transformations, let's add some quality control metrics of the raw data to the metadata, which we can plot later on. "
   ]
  },
  {
   "cell_type": "code",
   "execution_count": null,
   "id": "30b5379c",
   "metadata": {},
   "outputs": [],
   "source": [
    "gr.pp.calculate_qc_metrics(dc)"
   ]
  },
  {
   "cell_type": "markdown",
   "id": "aaddb88c",
   "metadata": {},
   "source": [
    "### Filtering"
   ]
  },
  {
   "cell_type": "code",
   "execution_count": null,
   "id": "2c8f6954",
   "metadata": {},
   "outputs": [],
   "source": [
    "dc_filtered = dc.copy()"
   ]
  },
  {
   "cell_type": "markdown",
   "id": "af97a40a",
   "metadata": {},
   "source": [
    "`grassp.pp` provides filtering functions to remove low-quality proteins. Here we filter out proteins that were annotated as contaminants by MaxQuant and then remove proteins that were not at least detected in 2/6 fractions for 4/6 replicates. "
   ]
  },
  {
   "cell_type": "code",
   "execution_count": null,
   "id": "b7cbdb0a",
   "metadata": {},
   "outputs": [],
   "source": [
    "print(\"Protein count before filtering: \", dc.shape[0])\n",
    "\n",
    "contaminant_cols = [\"Only identified by site\", \"Reverse\", \"Potential contaminant\"]\n",
    "gr.pp.remove_contaminants(dc, filter_columns=contaminant_cols, filter_value=\"+\")\n",
    "dc_filtered.obs.drop(\n",
    "    columns=contaminant_cols,\n",
    "    inplace=True,\n",
    ")\n",
    "print(\"Protein count after contaminant filtering: \", dc.shape[0])\n",
    "\n",
    "gr.pp.filter_proteins_per_replicate(\n",
    "    dc_filtered,\n",
    "    grouping_columns=\"subcellular_enrichment\",\n",
    "    min_replicates=4,\n",
    "    min_samples=2,\n",
    ")\n",
    "print(\"Protein count after replicate filtering: \", dc_filtered.shape[0])"
   ]
  },
  {
   "cell_type": "markdown",
   "id": "d300cdfe",
   "metadata": {},
   "source": [
    "### Transformations"
   ]
  },
  {
   "cell_type": "markdown",
   "id": "e95b95e5",
   "metadata": {},
   "source": [
    "#### Normalization (log1p transformation)\n",
    "Plotting functions like PCA assume normally distributed data, so it's necessary to apply log transformation to the count data to reduce skewness and stabilize variance across the dynamic range of protein abundances."
   ]
  },
  {
   "cell_type": "code",
   "execution_count": null,
   "id": "c7f87a0c",
   "metadata": {},
   "outputs": [],
   "source": [
    "dc_filtered.layers[\"raw_intensities\"] = dc_filtered.X.copy()\n",
    "print(f\"DC data before log transforming {dc_filtered.X[:10, :5]}\")\n",
    "\n",
    "dc_filtered.X = np.log1p(dc_filtered.X)\n",
    "print(f\"DC data before imputating {dc_filtered.X[:10, :5]}\")\n",
    "dc_filtered.layers[\"log_intensities\"] = dc_filtered.X.copy()"
   ]
  },
  {
   "cell_type": "markdown",
   "id": "779faef1",
   "metadata": {},
   "source": [
    "#### Imputing\n",
    "Mass spectrometry data contains numerous missing values due to instrument sensitivity thresholds, where proteins below the detection limit are not quantified. \n",
    "\n",
    "Imputation addresses these technical limitations by estimating missing values for more comprehensive downstream analysis.\n",
    "In this case, grassp uses a left-shifted gaussian imputation, although other methods can be chosen. "
   ]
  },
  {
   "cell_type": "code",
   "execution_count": null,
   "id": "5d663c4c",
   "metadata": {},
   "outputs": [],
   "source": [
    "gr.pp.impute_gaussian(dc_filtered, distance=1.8)\n",
    "print(f\"DC data after imputating {dc_filtered.X[:10, :5]}\")"
   ]
  },
  {
   "cell_type": "markdown",
   "id": "89f55f4e",
   "metadata": {},
   "source": [
    "Plotting histogram of data distribution before versus after imputation"
   ]
  },
  {
   "cell_type": "code",
   "execution_count": null,
   "id": "3a8d27cc",
   "metadata": {},
   "outputs": [],
   "source": [
    "plt.hist(\n",
    "    dc_filtered.X.flatten(), bins=100, alpha=0.5, label=\"After Imputation\"\n",
    ")  # .flatten() converts the matrix into a 1D array\n",
    "plt.hist(\n",
    "    dc_filtered.layers[\"log_intensities\"].flatten(),\n",
    "    bins=100,\n",
    "    alpha=0.5,\n",
    "    label=\"Before Imputation\",\n",
    ")\n",
    "plt.legend()\n"
   ]
  },
  {
   "cell_type": "markdown",
   "id": "66f4c8a5",
   "metadata": {},
   "source": [
    "### QC plotting "
   ]
  },
  {
   "cell_type": "markdown",
   "id": "5e3f37af",
   "metadata": {},
   "source": [
    "#### Plotting transposed PCA to check sample clustering \n",
    "In subcellular proteomics we focus on the relationships between proteins, which typically lie in our \"observations\". However, for QC one might want to look at the relations between sample.\n",
    "Therefore, transposed PCA allows us to visualize ***sample*** relationships and ensure that biological replicates cluster together as expected."
   ]
  },
  {
   "cell_type": "code",
   "execution_count": null,
   "id": "13a896a1",
   "metadata": {},
   "outputs": [],
   "source": [
    "dc_T = dc_filtered.T.copy()\n",
    "dc_T.X = dc_filtered.layers[\"log_intensities\"].T\n",
    "\n",
    "sc.pp.pca(dc_T)\n",
    "sc.pl.pca(dc_T, color=\"subcellular_enrichment\", palette=\"cividis\")"
   ]
  },
  {
   "cell_type": "markdown",
   "id": "d5a72211",
   "metadata": {},
   "source": [
    "#### Violin plots of Log Intensities per Sample\n",
    "Plottting the distribution of protein intensities across each sample helps to identify any samples with unusual expression patterns or technical issues. As expected the later fractions and Cytosolic supernatant have fewer proteins."
   ]
  },
  {
   "cell_type": "code",
   "execution_count": null,
   "id": "5181262f",
   "metadata": {},
   "outputs": [],
   "source": [
    "plot_df = dc_filtered.to_df(layer=\"log_intensities\")\n",
    "\n",
    "plt.figure(figsize=(20, 4))\n",
    "sns.violinplot(plot_df, inner=None)\n",
    "plt.xticks(rotation=90)\n",
    "plt.xticks(rotation=90)\n",
    "plt.tight_layout()  # No fig needed\n",
    "plt.title(label=\"Log1p Intensities per Sample\")\n",
    "plt.show()"
   ]
  },
  {
   "cell_type": "markdown",
   "id": "c12910a9",
   "metadata": {},
   "source": [
    "#### Violin plot of QC metrics per Fraction\n",
    "In addition to sample-level qc, we can examine quality control metrics at the fraction level, revealing how protein detection rates, total intensities, and dropout percentages vary across different centrifugation speeds and compartments."
   ]
  },
  {
   "cell_type": "code",
   "execution_count": null,
   "id": "c3e38c2b",
   "metadata": {},
   "outputs": [],
   "source": [
    "fig, axs = plt.subplots(1, 3, figsize=(28, 6))\n",
    "for key, ax in zip(\n",
    "    [\"n_proteins_by_intensity\", \"log1p_total_intensity\", \"pct_dropout_by_intensity\"],\n",
    "    axs,\n",
    "):\n",
    "    sc.pl.violin(\n",
    "        dc_T,\n",
    "        key,\n",
    "        groupby=\"subcellular_enrichment\",\n",
    "        size=4,\n",
    "        rotation=90,\n",
    "        ax=ax,\n",
    "        show=False,\n",
    "    )"
   ]
  },
  {
   "cell_type": "markdown",
   "id": "08f6e7c9",
   "metadata": {},
   "source": [
    "### Enrichment (Log Fold Change)\n",
    "Grassp provides functions to calculate enrichments. The following useful grassp enrichment function offers two enrichment calculation methods:\n",
    "\n",
    "1. **Log fold change (lfc)** computes the difference between median intensities of the target condition and control samples, providing a measure of how many times higher or lower protein levels are in the enriched fraction\n",
    "2. **Proportion** calculates the relative abundance as a fraction of total intensity across target and control samples, indicating what percentage of the protein's total signal comes from the enriched condition\n",
    "\n",
    "Here we chose the lfc transformation over proportions, because it produces a distribution of values that is closer to a normal distribution. Many downstream tools such as PCA assume normally distributed features."
   ]
  },
  {
   "cell_type": "code",
   "execution_count": null,
   "id": "522d2bcb",
   "metadata": {},
   "outputs": [],
   "source": [
    "dc_filtered_enr = gr.pp.calculate_enrichment_vs_all(\n",
    "    dc_filtered,\n",
    "    subcellular_enrichment_column=\"subcellular_enrichment\",\n",
    "    covariates=[\"biological_replicate\"],\n",
    "    enrichment_method=\"lfc\",\n",
    ")\n",
    "\n",
    "dc_filtered_enr = gr.pp.aggregate_samples(\n",
    "    dc_filtered_enr, grouping_columns=\"subcellular_enrichment\", agg_func=np.median\n",
    ")\n",
    "\n",
    "dc_filtered_enr"
   ]
  },
  {
   "cell_type": "markdown",
   "id": "924cbd36",
   "metadata": {},
   "source": [
    "## Dimensionality Reduction\n",
    "\n",
    "### PCA plots \n",
    "Having filtered, transformed, and enriched, we can move onto visualization and interpretation! These plots show how proteins cluster in reduced dimensional space based on their intensity patterns across samples, revealing groups of co-localized proteins and identifying potential subcellular localization signatures."
   ]
  },
  {
   "cell_type": "code",
   "execution_count": null,
   "id": "dfb06984",
   "metadata": {},
   "outputs": [],
   "source": [
    "sc.pp.scale(dc_filtered_enr)\n",
    "sc.pp.pca(dc_filtered_enr)\n",
    "sc.pl.pca(\n",
    "    dc_filtered_enr,\n",
    "    color=\"hein2024_gt_component\",\n",
    "    title=\"DC hein 2024 Ground Truth PCA\",\n",
    ")\n",
    "sc.pl.pca(\n",
    "    dc_filtered_enr, color=\"hein2024_component\", title=\"DC hein 2024 annotated PCA\"\n",
    ")"
   ]
  },
  {
   "cell_type": "markdown",
   "id": "7738f4da",
   "metadata": {},
   "source": [
    "### UMAPs\n",
    "While PCA provides a linear dimensionality reduction, UMAP offers a non-linear approach that can better preserve local neighborhood structures and reveal more complex patterns in protein localization data that might be missed by linear methods."
   ]
  },
  {
   "cell_type": "code",
   "execution_count": null,
   "id": "260d0a8c",
   "metadata": {},
   "outputs": [],
   "source": [
    "sc.pp.neighbors(dc_filtered_enr, use_rep=\"X\", n_neighbors=20)\n",
    "sc.tl.umap(dc_filtered_enr)\n",
    "sc.pl.umap(\n",
    "    dc_filtered_enr,\n",
    "    color=\"hein2024_gt_component\",\n",
    "    title=\"DC hein 2024 Ground Truth UMAP\",\n",
    ")\n",
    "sc.pl.umap(\n",
    "    dc_filtered_enr, color=\"hein2024_component\", title=\"DC hein 2024 annotated UMAP\"\n",
    ")\n"
   ]
  },
  {
   "cell_type": "markdown",
   "id": "fc221029",
   "metadata": {},
   "source": [
    "## Compartment Annotation\n",
    "\n",
    "The central question of subcellular proteomics is to find which cellular compartment each observed protein resides in. One way to annotate proteins with their compartments is to start from a set of ground-truth proteins with known localization and transfer labels to proteins with similar subcellular profiles. For this grassp provides the `knn_annotation` function, that propagates labels across local neighborhoods in the protein-protein neighbor graph."
   ]
  },
  {
   "cell_type": "code",
   "execution_count": null,
   "id": "68879d06",
   "metadata": {},
   "outputs": [],
   "source": [
    "gr.tl.knn_annotation(\n",
    "    dc_filtered_enr, obs_ann_col=\"hein2024_gt_component\", key_added=\"knn_annotation\"\n",
    ")\n",
    "\n",
    "sc.pl.umap(dc_filtered_enr, color=\"knn_annotation\", title=\"KNN Annotation\")"
   ]
  },
  {
   "cell_type": "markdown",
   "id": "dfe0b3ab",
   "metadata": {},
   "source": [
    "After these steps, you will see that new analysis results are stored in various AnnData compartments: PCA components and UMAP coordinates are saved in .obsm, while metadata like search engine parameters and visualization settings are stored in .uns, and protein-protein relationships are captured in .obsp as distance and connectivity matrices. \n",
    "\n",
    ">   uns: 'Search_Engine', 'pca', 'hein2024_gt_component_colors', 'hein2024_component_colors', 'neighbors', 'umap'\n",
    "\n",
    ">   obsm: 'X_pca', 'X_umap'\n",
    "\n",
    ">   obsp: 'distances', 'connectivities'"
   ]
  },
  {
   "cell_type": "code",
   "execution_count": null,
   "id": "3540fff4",
   "metadata": {},
   "outputs": [],
   "source": [
    "dc_filtered_enr"
   ]
  }
 ],
 "metadata": {
  "kernelspec": {
   "display_name": "grassp_env",
   "language": "python",
   "name": "python3"
  },
  "language_info": {
   "codemirror_mode": {
    "name": "ipython",
    "version": 3
   },
   "file_extension": ".py",
   "mimetype": "text/x-python",
   "name": "python",
   "nbconvert_exporter": "python",
   "pygments_lexer": "ipython3",
   "version": "3.12.11"
  }
 },
 "nbformat": 4,
 "nbformat_minor": 5
}
